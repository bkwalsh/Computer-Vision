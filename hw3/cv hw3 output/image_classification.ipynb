{
  "cells": [
    {
      "cell_type": "markdown",
      "metadata": {
        "id": "PgO0k03dlZ-T"
      },
      "source": [
        "# Introduction\n",
        "\n",
        "\n",
        "In this assignment, you will practice building and training Convolutional Neural Networks with Pytorch to solve computer vision tasks.  This assignment includes two sections, each involving different tasks:\n",
        "\n",
        "(1) Image Classification. Predict image-level category labels on two historically notable image datasets: **CIFAR-10** and **MNIST**.\n",
        "\n",
        "(2) Image Segmentation. Predict pixel-wise classification (semantic segmentation) on synthetic input images formed by superimposing MNIST images on top of CIFAR images.\n",
        "\n",
        "You will design your own models in each section and build the entire training/testing pipeline with PyTorch.\n",
        "PyTorch provides optimized implementations of the building blocks and additional utilities, both of which will be necessary for experiments on real datasets. It is highly recommended to read the official [documentation](https://pytorch.org/docs/stable/index.html) and [examples](https://pytorch.org/tutorials/beginner/blitz/cifar10_tutorial.html) before starting your implementation. There are some APIs that you'll find useful:\n",
        "[Layers](http://pytorch.org/docs/stable/nn.html),\n",
        "[Activations](https://pytorch.org/docs/stable/nn.html#non-linear-activations-weighted-sum-nonlinearity),\n",
        "[Loss functions](http://pytorch.org/docs/stable/nn.html#loss-functions),\n",
        "[Optimizers](http://pytorch.org/docs/stable/optim.html)\n",
        "\n",
        "It is highly recommended to use Google Colab and run the notebook on a GPU node. Check https://colab.research.google.com/ and look for tutorials online. To use a GPU go to Runtime -> Change runtime type and select GPU.\n",
        "\n",
        "\n",
        "\n",
        "\n"
      ]
    },
    {
      "cell_type": "markdown",
      "metadata": {
        "id": "b5lueGqqw6sR"
      },
      "source": [
        "# (1) Image Classification\n",
        "\n",
        "In this section, you will design and train an image classification network, which takes images as input and outputs vectors whose length equals the number of possible categories on **MNIST** and **CIFAR-10** datasets.\n",
        "\n",
        "You can design your models by borrowing ideas from recent architectures, e.g., ResNet, but you may not simply copy an entire existing model.\n",
        "\n",
        "For image classification, you can use a built-in dataset provided by [torchvision](https://pytorch.org/vision/stable/index.html), a PyTorch official extension for image tasks.\n",
        "\n",
        "To finish this section step by step, you need to:\n",
        "\n",
        "* Prepare data by building a dataset and dataloader. (with [torchvision](https://pytorch.org/vision/stable/index.html))\n",
        "\n",
        "* Implement training code (6 points) & testing code (6 points), including model saving and loading.\n",
        "\n",
        "* Construct a model (12 points) and choose an optimizer (3 points).\n",
        "\n",
        "* Describe what you did, any additional features you implemented, and/or any graphs you made in training and evaluating your network. Also report final test accuracy @100 epochs in a writeup: hw3.pdf (3 points)"
      ]
    },
    {
      "cell_type": "code",
      "execution_count": null,
      "metadata": {
        "id": "2nAlwqqFzLfU"
      },
      "outputs": [],
      "source": [
        "# !pip install torch==2.1.0 # working on torch 2.1.0\n",
        "import numpy as np\n",
        "import os\n",
        "import math\n",
        "import torch\n",
        "import torch.nn as nn\n",
        "import torch.nn.functional as F\n",
        "import torch.optim as optim\n",
        "from torch.utils.data import DataLoader, random_split\n",
        "from torch.utils.data import sampler\n",
        "import torchvision\n",
        "import torchvision.transforms as T"
      ]
    },
    {
      "cell_type": "markdown",
      "metadata": {
        "id": "QpFf3VOO1bT1"
      },
      "source": [
        "## Data Preparation:\n",
        "\n",
        "Setup a Dataset for training and testing.\n",
        "\n",
        "Datasets load single training examples one a time, so we practically wrap each Dataset in a DataLoader, which loads a data batch in parallel.\n",
        "\n",
        "We provide an example for setting up a training set for MNIST, and you should complete the rest."
      ]
    },
    {
      "cell_type": "code",
      "source": [
        "##################### MNIST DATA LOADING\n",
        "mnist_data = torchvision.datasets.MNIST('./data', train = True, download = True, transform = T.ToTensor())\n",
        "\n",
        "mtrain_size = int(0.8 * len(mnist_data))\n",
        "mtest_size = len(mnist_data) - mtrain_size\n",
        "mnist_train, mnist_test = random_split(mnist_data, [mtrain_size, mtest_size])\n",
        "\n",
        "mnist_loader_train = torch.utils.data.DataLoader(mnist_test,\n",
        "                                          batch_size=16,\n",
        "                                          shuffle=True,\n",
        "                                          num_workers=1)\n",
        "\n",
        "mnist_loader_test = torch.utils.data.DataLoader(mnist_train,\n",
        "                                          batch_size=16,\n",
        "                                          shuffle=False,\n",
        "                                          num_workers=1)\n",
        "\n",
        "##################### CIFAR-10 DATA LOADING\n",
        "CIFAR10_data = torchvision.datasets.CIFAR10('./data', train = True, download=True, transform = T.ToTensor())\n",
        "\n",
        "ctrain_size = int(0.8 * len(CIFAR10_data))\n",
        "ctest_size = len(CIFAR10_data) - ctrain_size\n",
        "c_train, c_test = random_split(CIFAR10_data, [ctrain_size, ctest_size])\n",
        "\n",
        "cifar10_loader_train = torch.utils.data.DataLoader(c_test,\n",
        "                                          batch_size=128,\n",
        "                                          shuffle=True,\n",
        "                                          num_workers=1)\n",
        "\n",
        "cifar10_loader_test = torch.utils.data.DataLoader(c_train,\n",
        "                                          batch_size=128,\n",
        "                                          shuffle=False,\n",
        "                                          num_workers=1)"
      ],
      "metadata": {
        "id": "2Be2-ubLq-Tg"
      },
      "execution_count": null,
      "outputs": []
    },
    {
      "cell_type": "markdown",
      "metadata": {
        "id": "58GUecr83BmH"
      },
      "source": [
        "## Design/choose your own model structure (12 points) and optimizer (3 points).\n",
        "You might want to adjust the following configurations for better performance:\n",
        "\n",
        "(1) Network architecture:\n",
        "- You can borrow some ideas from existing CNN designs, e.g., ResNet where\n",
        "the input from the previous layer is added to the output\n",
        "https://arxiv.org/abs/1512.03385\n",
        "- Note: Do not **directly copy** an entire existing network design.\n",
        "\n",
        "(2) Architecture hyperparameters:\n",
        "- Filter size, number of filters, and number of layers (depth). Make careful choices to tradeoff computational efficiency and accuracy.\n",
        "- Pooling vs. Strided Convolution\n",
        "- Batch normalization\n",
        "- Choice of non-linear activation\n",
        "\n",
        "(3) Choice of optimizer (e.g., SGD, Adam, Adagrad, RMSprop) and associated hyperparameters (e.g., learning rate, momentum)."
      ]
    },
    {
      "cell_type": "markdown",
      "source": [
        "# MNIST MODEL ARCHITECTURE"
      ],
      "metadata": {
        "id": "PoHOoZyqCG4q"
      }
    },
    {
      "cell_type": "code",
      "execution_count": null,
      "metadata": {
        "id": "4ZA5kw3X3qLy"
      },
      "outputs": [],
      "source": [
        "class MNIST(nn.Module):\n",
        "    def __init__(self):\n",
        "        super(MNIST, self).__init__()\n",
        "        # convolution blocks\n",
        "        self.conv1 = nn.Conv2d(1, 64, kernel_size=3, padding=1)\n",
        "        self.conv2 = nn.Conv2d(64, 128, kernel_size=3, padding=1)\n",
        "        self.conv3 = nn.Conv2d(128, 256, kernel_size=3, padding=1)\n",
        "        self.conv4 = nn.Conv2d(256, 512, kernel_size=3, padding=1)\n",
        "        self.pool = nn.MaxPool2d(kernel_size=2, stride=2)\n",
        "\n",
        "        # linear reduction for classification\n",
        "        self.fc1 = nn.Linear(8192, 1024)\n",
        "        self.fc2 = nn.Linear(1024, 512)\n",
        "        self.fc3 = nn.Linear(512, 10)\n",
        "\n",
        "    def forward(self, x):\n",
        "        x = F.relu(self.conv1(x))\n",
        "        x = self.pool(F.relu(self.conv2(x)))\n",
        "        x = self.pool(F.relu(self.conv3(x)))\n",
        "        x = self.pool(F.relu(self.conv4(x)))\n",
        "        x = x.view(x.size(0), -1)\n",
        "        return x"
      ]
    },
    {
      "cell_type": "markdown",
      "source": [
        "# CIFAR-10 MODEL ARCHITECTURE"
      ],
      "metadata": {
        "id": "nBskD7pUCXcx"
      }
    },
    {
      "cell_type": "code",
      "execution_count": null,
      "metadata": {
        "id": "EH21MMMZvDuK"
      },
      "outputs": [],
      "source": [
        "# resblock architecture with striding\n",
        "class ResBlock(nn.Module):\n",
        "    def __init__(self, in_channels, out_channels, stride=1):\n",
        "        super(ResBlock, self).__init__()\n",
        "        # convolution / batch norm blocks\n",
        "        self.conv1 = nn.Conv2d(in_channels, out_channels, kernel_size=3, stride=stride, padding=1, bias=False)\n",
        "        self.bn1 = nn.BatchNorm2d(out_channels)\n",
        "        self.relu = nn.ReLU(inplace=True)\n",
        "        self.conv2 = nn.Conv2d(out_channels, out_channels, kernel_size=3, stride=1, padding=1, bias=False)\n",
        "        self.bn2 = nn.BatchNorm2d(out_channels)\n",
        "        self.downsample = nn.Sequential()\n",
        "        # strided downsampling\n",
        "        if stride != 1 or in_channels != out_channels:\n",
        "            self.downsample = nn.Sequential(\n",
        "                nn.Conv2d(in_channels, out_channels, kernel_size=1, stride=stride, bias=False),\n",
        "                nn.BatchNorm2d(out_channels)\n",
        "            )\n",
        "\n",
        "    def forward(self, x):\n",
        "        identity = x\n",
        "        out = self.conv1(x)\n",
        "        out = self.bn1(out)\n",
        "        out = self.relu(out)\n",
        "        out = self.conv2(out)\n",
        "        out = self.bn2(out)\n",
        "        out += self.downsample(identity)\n",
        "        out = self.relu(out)\n",
        "        return out\n",
        "\n",
        "# primary CIFAR10 model\n",
        "class CIFAR10(nn.Module):\n",
        "    def __init__(self):\n",
        "        super(CIFAR10, self).__init__()\n",
        "        # convolution / resnet blocks\n",
        "        self.conv1 = nn.Conv2d(3, 64, kernel_size=3, padding=1)\n",
        "        self.resblock1 = ResBlock(64, 64)\n",
        "        self.conv2 = nn.Conv2d(64, 128, kernel_size=3, padding=1)\n",
        "        self.resblock2 = ResBlock(128, 128)\n",
        "        self.conv3 = nn.Conv2d(128, 256, kernel_size=3, padding=1)\n",
        "        self.resblock3 = ResBlock(256, 256)\n",
        "        self.conv4 = nn.Conv2d(256, 512, kernel_size=3, padding=1)\n",
        "        self.resblock4 = ResBlock(512, 512)\n",
        "        self.pool = nn.MaxPool2d(kernel_size=2, stride=2)\n",
        "\n",
        "        # linear reduction for classification\n",
        "        self.fc1 = nn.Linear(8192, 1024)\n",
        "        self.fc2 = nn.Linear(1024, 512)\n",
        "        self.fc3 = nn.Linear(512, 10)\n",
        "\n",
        "    def forward(self, x):\n",
        "        x = F.relu(self.conv1(x))\n",
        "        x = self.resblock1(x)\n",
        "        x = self.pool(F.relu(self.conv2(x)))\n",
        "        x = self.resblock2(x)\n",
        "        x = self.pool(F.relu(self.conv3(x)))\n",
        "        x = self.resblock3(x)\n",
        "        x = self.pool(F.relu(self.conv4(x)))\n",
        "        x = self.resblock4(x)\n",
        "        x = x.view(x.size(0), -1)\n",
        "        x = F.relu(self.fc1(x))\n",
        "        x = F.relu(self.fc2(x))\n",
        "        x = self.fc3(x)\n",
        "        return x"
      ]
    },
    {
      "cell_type": "markdown",
      "metadata": {
        "id": "MOuB58GA5W_C"
      },
      "source": [
        "## Training (6 points)\n",
        "\n",
        "Train a model on the given dataset using the PyTorch Module API.\n",
        "\n",
        "Inputs:\n",
        "- loader_train: The loader from which train samples will be drawn from.\n",
        "- loader_test: The loader from which test samples will be drawn from.\n",
        "- model: A PyTorch Module giving the model to train.\n",
        "- optimizer: An Optimizer object we will use to train the model.\n",
        "- epochs: (Optional) A Python integer giving the number of epochs to train for.\n",
        "\n",
        "Returns: Nothing, but prints model accuracies during training."
      ]
    },
    {
      "cell_type": "code",
      "execution_count": null,
      "metadata": {
        "id": "0Kx_q5rv5ddg"
      },
      "outputs": [],
      "source": [
        "def train(loader_train, loader_test, model, optimizer, epochs=100):\n",
        "    device = torch.device(\"cuda\" if torch.cuda.is_available() else \"cpu\") # set to cuda\n",
        "    model = model.cuda()\n",
        "    # standard cross entropy loss function\n",
        "    criterion = nn.CrossEntropyLoss()\n",
        "\n",
        "\n",
        "    for e in range(epochs):\n",
        "        model.train()\n",
        "        for t, (x, y) in enumerate(loader_train):\n",
        "            # (1) move data to GPU\n",
        "            x, y = x.to(device), y.to(device)\n",
        "\n",
        "            # (2) forward and get loss\n",
        "            output = model(x)\n",
        "            loss = criterion(output, y)\n",
        "\n",
        "            # (3) zero out all of the gradients for the variables which the optimizer\n",
        "            # will update.\n",
        "            optimizer.zero_grad()\n",
        "\n",
        "            # (4) the backwards pass: compute the gradient of the loss with\n",
        "            # respect to each  parameter of the model.\n",
        "            loss.backward()\n",
        "\n",
        "            # (5) update the parameters of the model using the gradients\n",
        "            # computed by the backwards pass.\n",
        "            optimizer.step()\n",
        "\n",
        "            # only print out every 25 steps\n",
        "            if t % 25 == 0:\n",
        "              print('Epoch %d, Iteration %d, loss = %.4f' % (e, t, loss.item()))\n",
        "\n",
        "\n",
        "        test(loader_test, model)\n",
        "        # check point at each epoch for resuming training\n",
        "        torch.save(model.state_dict(), \"model.pth\")"
      ]
    },
    {
      "cell_type": "markdown",
      "metadata": {
        "id": "bdxEMZpC6E9K"
      },
      "source": [
        "## Testing (6 points)\n",
        "Test a model using the PyTorch Module API.\n",
        "\n",
        "Inputs:\n",
        "- loader: The loader from which test samples will be drawn from.\n",
        "- model: A PyTorch Module giving the model to test.\n",
        "\n",
        "Returns: Nothing, but prints model accuracies during training."
      ]
    },
    {
      "cell_type": "code",
      "execution_count": null,
      "metadata": {
        "id": "KA5YBjxx6IeF"
      },
      "outputs": [],
      "source": [
        "def test(loader, model):\n",
        "    num_correct = 0\n",
        "    num_samples = 0\n",
        "    model.eval() # set model to evaluation mode\n",
        "    device = torch.device(\"cuda\" if torch.cuda.is_available() else \"cpu\")\n",
        "\n",
        "    with torch.no_grad():\n",
        "        for x, y in loader:\n",
        "            # (1) move to GPU\n",
        "            x, y = x.to(device), y.to(device)\n",
        "\n",
        "            # (2) forward and calculate scores and predictions\n",
        "            output = model(x)\n",
        "            _, predicted = torch.max(output.data, 1)\n",
        "\n",
        "            # (3) accumulate num_correct and num_samples\n",
        "            num_samples += y.size(0)\n",
        "            num_correct += (predicted == y).sum().item()\n",
        "\n",
        "\n",
        "    acc = num_correct / num_samples\n",
        "    print('Eval %d / %d correct (%.2f)' % (num_correct, num_samples, 100 * acc))"
      ]
    },
    {
      "cell_type": "code",
      "source": [
        "# load model util for partial model training\n",
        "def load_model(model, load_path):\n",
        "    model.load_state_dict(torch.load(load_path))\n",
        "    print(f\"Model loaded from {load_path}\")\n",
        "    return model"
      ],
      "metadata": {
        "id": "bWzU4UfcjjnU"
      },
      "execution_count": null,
      "outputs": []
    },
    {
      "cell_type": "markdown",
      "metadata": {
        "id": "omwoZPA26V-a"
      },
      "source": [
        "Describe your design details in the writeup hw3.pdf. (3 points)\n",
        "\n",
        "Finish your model and optimizer below."
      ]
    },
    {
      "cell_type": "markdown",
      "source": [
        "# MNIST Implementation"
      ],
      "metadata": {
        "id": "y5ZmokHBxLPI"
      }
    },
    {
      "cell_type": "code",
      "source": [
        "lr = 0.01 # standard learning rate, momentum, decay rate\n",
        "momentum = 0.9\n",
        "weight_decay = 0.01\n",
        "model = MNIST()\n",
        "optimizer = optim.SGD(model.parameters(), lr, momentum, weight_decay)\n",
        "train(mnist_loader_train, mnist_loader_test, model, optimizer, epochs=100)\n",
        "\n",
        "# loaded_model = load_model(MNIST_models(), \"model.pth\") # example model loading for resuming training"
      ],
      "metadata": {
        "id": "6ZcWBoxBw0ep"
      },
      "execution_count": null,
      "outputs": []
    },
    {
      "cell_type": "markdown",
      "source": [
        "# CIFAR10 Implementation"
      ],
      "metadata": {
        "id": "DAHP2fRpx57S"
      }
    },
    {
      "cell_type": "code",
      "execution_count": null,
      "metadata": {
        "id": "wxvtO5oQGctE"
      },
      "outputs": [],
      "source": [
        "lr = 0.01 # standard learning rate, momentum, decay rate\n",
        "momentum = 0.9\n",
        "weight_decay = 0.01\n",
        "model = CIFAR10()\n",
        "optimizer = optim.SGD(model.parameters(), lr, momentum, weight_decay)\n",
        "train(cifar10_loader_train, cifar10_loader_test, model, optimizer, epochs=100)\n",
        "\n",
        "# loaded_model = load_model(CIFAR10_models(), \"model.pth\") # example model loading for resuming training"
      ]
    }
  ],
  "metadata": {
    "accelerator": "GPU",
    "colab": {
      "provenance": [],
      "gpuType": "T4"
    },
    "kernelspec": {
      "display_name": "Python 3",
      "name": "python3"
    },
    "language_info": {
      "name": "python"
    }
  },
  "nbformat": 4,
  "nbformat_minor": 0
}